{
  "nbformat": 4,
  "nbformat_minor": 0,
  "metadata": {
    "colab": {
      "name": "Copy of First_BF_ML.ipynb",
      "version": "0.3.2",
      "provenance": [],
      "include_colab_link": true
    },
    "kernelspec": {
      "name": "python3",
      "display_name": "Python 3"
    },
    "accelerator": "GPU"
  },
  "cells": [
    {
      "cell_type": "markdown",
      "metadata": {
        "id": "view-in-github",
        "colab_type": "text"
      },
      "source": [
        "<a href=\"https://colab.research.google.com/github/fefespn/clientSide/blob/master/Copy_of_First_BF_ML.ipynb\" target=\"_parent\"><img src=\"https://colab.research.google.com/assets/colab-badge.svg\" alt=\"Open In Colab\"/></a>"
      ]
    },
    {
      "metadata": {
        "id": "Ws0FxxrKbEnY",
        "colab_type": "code",
        "outputId": "b4402262-fbff-4612-df94-b139fcd7558b",
        "colab": {
          "base_uri": "https://localhost:8080/",
          "height": 306
        }
      },
      "cell_type": "code",
      "source": [
        "#@title Model code\n",
        "#!pip install tensorflow-gpu==2.0.0-alpha0\n",
        "!pip install bloom-filter\n",
        "import tensorflow as tf\n",
        "from tensorflow.keras import layers\n",
        "\n",
        "mnist = tf.keras.datasets.mnist\n",
        "\n",
        "(x_train, y_train), (x_test, y_test) = mnist.load_data()\n",
        "x_train, x_test = x_train / 255.0, x_test / 255.0\n",
        "\n",
        "model = tf.keras.Sequential()\n",
        "\n",
        "model.add(layers.Flatten(input_shape=(28, 28)))\n",
        "# Adds a densely-connected layer with 64 units to the model:\n",
        "model.add(layers.Dense(128, activation='relu'))\n",
        "# Add another:\n",
        "model.add(layers.Dropout(0.2))\n",
        "# Add a softmax layer with 10 output units:\n",
        "model.add(layers.Dense(10, activation='softmax'))\n",
        "\n",
        "\n",
        "model.compile(optimizer='adam',\n",
        "              loss='sparse_categorical_crossentropy',\n",
        "              metrics=['accuracy'])\n",
        "\n",
        "model.fit(x_train, y_train, epochs=5)\n",
        "\n",
        "model.evaluate(x_test, y_test)\n",
        "print(\"end\")"
      ],
      "execution_count": 0,
      "outputs": [
        {
          "output_type": "stream",
          "text": [
            "Collecting bloom-filter\n",
            "  Downloading https://files.pythonhosted.org/packages/6f/85/c26819421801c5a04a2743e329641dde22225a55153d5477c032b4f7d40e/bloom_filter-1.3-py3-none-any.whl\n",
            "Installing collected packages: bloom-filter\n",
            "Successfully installed bloom-filter-1.3\n",
            "Epoch 1/5\n",
            "60000/60000 [==============================] - 6s 104us/sample - loss: 0.3019 - acc: 0.9116\n",
            "Epoch 2/5\n",
            "60000/60000 [==============================] - 6s 99us/sample - loss: 0.1448 - acc: 0.9556\n",
            "Epoch 3/5\n",
            "60000/60000 [==============================] - 5s 90us/sample - loss: 0.1082 - acc: 0.9676\n",
            "Epoch 4/5\n",
            "60000/60000 [==============================] - 5s 91us/sample - loss: 0.0868 - acc: 0.9736\n",
            "Epoch 5/5\n",
            "60000/60000 [==============================] - 5s 91us/sample - loss: 0.0755 - acc: 0.9763\n",
            "10000/10000 [==============================] - 1s 51us/sample - loss: 0.0781 - acc: 0.9754\n",
            "end\n"
          ],
          "name": "stdout"
        }
      ]
    }
  ]
}